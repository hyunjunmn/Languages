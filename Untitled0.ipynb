{
  "nbformat": 4,
  "nbformat_minor": 0,
  "metadata": {
    "colab": {
      "name": "Untitled0.ipynb",
      "provenance": [],
      "collapsed_sections": [],
      "authorship_tag": "ABX9TyPSMBt7GxZMN4eQjEZj2zxS",
      "include_colab_link": true
    },
    "kernelspec": {
      "name": "python3",
      "display_name": "Python 3"
    },
    "accelerator": "TPU"
  },
  "cells": [
    {
      "cell_type": "markdown",
      "metadata": {
        "id": "view-in-github",
        "colab_type": "text"
      },
      "source": [
        "<a href=\"https://colab.research.google.com/github/hyunjunmn/Languages/blob/master/Untitled0.ipynb\" target=\"_parent\"><img src=\"https://colab.research.google.com/assets/colab-badge.svg\" alt=\"Open In Colab\"/></a>"
      ]
    },
    {
      "cell_type": "code",
      "metadata": {
        "id": "98E4UspIXLAG",
        "colab_type": "code",
        "colab": {
          "base_uri": "https://localhost:8080/",
          "height": 35
        },
        "outputId": "263d6cba-318d-48d5-a411-015242ae92f2"
      },
      "source": [
        "print(\"Hello world\")"
      ],
      "execution_count": 2,
      "outputs": [
        {
          "output_type": "stream",
          "text": [
            "Hello world\n"
          ],
          "name": "stdout"
        }
      ]
    },
    {
      "cell_type": "code",
      "metadata": {
        "id": "YXfJaU4DXYH-",
        "colab_type": "code",
        "colab": {}
      },
      "source": [
        "try:\n",
        "  %tensorflow_version 2.x\n",
        "except Exception:\n",
        "    pass\n",
        "import tensorflow as tf"
      ],
      "execution_count": 0,
      "outputs": []
    },
    {
      "cell_type": "code",
      "metadata": {
        "id": "1bao1jQ-XxAH",
        "colab_type": "code",
        "colab": {
          "base_uri": "https://localhost:8080/",
          "height": 35
        },
        "outputId": "d4c2cc04-56ad-4552-e8e6-66035041242b"
      },
      "source": [
        "print(tf.__version__)"
      ],
      "execution_count": 3,
      "outputs": [
        {
          "output_type": "stream",
          "text": [
            "2.2.0\n"
          ],
          "name": "stdout"
        }
      ]
    },
    {
      "cell_type": "code",
      "metadata": {
        "id": "cS6kPfzvYo9A",
        "colab_type": "code",
        "colab": {}
      },
      "source": [
        "rand = tf.random.uniform([2],1,5)"
      ],
      "execution_count": 0,
      "outputs": []
    },
    {
      "cell_type": "code",
      "metadata": {
        "id": "njpTbKcsYzV_",
        "colab_type": "code",
        "colab": {
          "base_uri": "https://localhost:8080/",
          "height": 35
        },
        "outputId": "762d926c-2cac-4f0c-e991-047acc701572"
      },
      "source": [
        "print(rand)"
      ],
      "execution_count": 24,
      "outputs": [
        {
          "output_type": "stream",
          "text": [
            "tf.Tensor([2.3314853 3.1549048], shape=(2,), dtype=float32)\n"
          ],
          "name": "stdout"
        }
      ]
    },
    {
      "cell_type": "code",
      "metadata": {
        "id": "_xzxRVy9ZrKQ",
        "colab_type": "code",
        "colab": {
          "base_uri": "https://localhost:8080/",
          "height": 35
        },
        "outputId": "fa4a3d36-9672-46ef-99de-a88e5e3c9e00"
      },
      "source": [
        "rand_nor = tf.random.normal([4],0,1)\n",
        "print(rand_nor)"
      ],
      "execution_count": 26,
      "outputs": [
        {
          "output_type": "stream",
          "text": [
            "tf.Tensor([ 0.6569941   1.0451914  -1.0224003   0.56155795], shape=(4,), dtype=float32)\n"
          ],
          "name": "stdout"
        }
      ]
    },
    {
      "cell_type": "code",
      "metadata": {
        "id": "lJflg2M5aqJh",
        "colab_type": "code",
        "colab": {}
      },
      "source": [
        "import math\n",
        "def sigmoid(x):\n",
        "  return 1/(1+math.exp(-x))"
      ],
      "execution_count": 0,
      "outputs": []
    },
    {
      "cell_type": "code",
      "metadata": {
        "id": "xw7oYqmObN0F",
        "colab_type": "code",
        "colab": {
          "base_uri": "https://localhost:8080/",
          "height": 199
        },
        "outputId": "f9b501f3-8022-4cf6-dd31-e4bd2416471d"
      },
      "source": [
        "  x=0\n",
        "  y=1\n",
        "  \n",
        "  w=tf.random.normal([1],0,1)\n",
        "  b=tf.random.normal([1],0,1)\n",
        "\n",
        "  for i in range(1000):\n",
        "    output = sigmoid(x*w+1*b);\n",
        "    error=y-output\n",
        "    w=w+x*0.1*error\n",
        "    b=b+1*0.1*error\n",
        "\n",
        "    if i % 100==99:\n",
        "      print(i,error,output)"
      ],
      "execution_count": 6,
      "outputs": [
        {
          "output_type": "stream",
          "text": [
            "99 0.08450162527198168 0.9154983747280183\n",
            "199 0.047084305048129105 0.9529156949518709\n",
            "299 0.03239595742889678 0.9676040425711032\n",
            "399 0.02463069472303181 0.9753693052769682\n",
            "499 0.019845367512089762 0.9801546324879102\n",
            "599 0.01660660540448966 0.9833933945955103\n",
            "699 0.01427131130813497 0.985728688691865\n",
            "799 0.012508822020020793 0.9874911779799792\n",
            "899 0.011131960610520797 0.9888680393894792\n",
            "999 0.010026961698656023 0.989973038301344\n"
          ],
          "name": "stdout"
        }
      ]
    }
  ]
}